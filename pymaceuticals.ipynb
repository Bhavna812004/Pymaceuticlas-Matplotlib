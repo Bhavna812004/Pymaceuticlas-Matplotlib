{
 "cells": [
  {
   "cell_type": "markdown",
   "metadata": {},
   "source": [
    "## Observations and Insights"
   ]
  },
  {
   "cell_type": "markdown",
   "metadata": {},
   "source": [
    "Three Observations:\n",
    "• Ramicane has the lowest STD-Dev & SEM hence that study has higher rate of accuracy while Ketapril’s higher STD-Dev & SEM value shows that data is too far spread out to get accurate results.\n",
    "• Upon closer inspection, Capomulin has lower IQR than Ramicane showing that the outlier did not impact much of the data which makes Capomulin a better option than Ramicane.  Box plot visually shows tighter spread for Capomulin vs Ramicane.\n",
    "• Correlation coefficient for Capomulin is .84 or 84% which means that there is a high linear relationship between weight and tumor volume.\n"
   ]
  },
  {
   "cell_type": "markdown",
   "metadata": {},
   "source": [
    "## Dependencies and starter code"
   ]
  },
  {
   "cell_type": "code",
   "execution_count": 1,
   "metadata": {},
   "outputs": [],
   "source": [
    "# Dependencies and Setup\n",
    "import pandas as pd\n",
    "import numpy as np\n",
    "import matplotlib.pyplot as plt\n",
    "import scipy.stats as st\n",
    "\n",
    "# Study data files\n",
    "mouse_data = \"data/Mouse_metadata.csv\"\n",
    "study_results = \"data/Study_results.csv\"\n",
    "\n",
    "# Read the mouse data and the study results\n",
    "mouse_data = pd.read_csv(mouse_data)\n",
    "study_results = pd.read_csv(study_results)\n",
    "\n",
    "# Combine the data into a single dataset\n",
    "mouse_study_results = pd.merge(study_results, mouse_data, how = \"left\", on=\"Mouse ID\")"
   ]
  },
  {
   "cell_type": "markdown",
   "metadata": {},
   "source": [
    "## Summary statistics"
   ]
  },
  {
   "cell_type": "code",
   "execution_count": 16,
   "metadata": {},
   "outputs": [
    {
     "data": {
      "text/html": [
       "<div>\n",
       "<style scoped>\n",
       "    .dataframe tbody tr th:only-of-type {\n",
       "        vertical-align: middle;\n",
       "    }\n",
       "\n",
       "    .dataframe tbody tr th {\n",
       "        vertical-align: top;\n",
       "    }\n",
       "\n",
       "    .dataframe thead th {\n",
       "        text-align: right;\n",
       "    }\n",
       "</style>\n",
       "<table border=\"1\" class=\"dataframe\">\n",
       "  <thead>\n",
       "    <tr style=\"text-align: right;\">\n",
       "      <th></th>\n",
       "      <th>Mean</th>\n",
       "      <th>Median</th>\n",
       "      <th>Variance</th>\n",
       "      <th>Std-Dev</th>\n",
       "      <th>SEM</th>\n",
       "    </tr>\n",
       "    <tr>\n",
       "      <th>Drug Regimen</th>\n",
       "      <th></th>\n",
       "      <th></th>\n",
       "      <th></th>\n",
       "      <th></th>\n",
       "      <th></th>\n",
       "    </tr>\n",
       "  </thead>\n",
       "  <tbody>\n",
       "    <tr>\n",
       "      <td>Capomulin</td>\n",
       "      <td>40.675741</td>\n",
       "      <td>41.557809</td>\n",
       "      <td>24.947764</td>\n",
       "      <td>4.994774</td>\n",
       "      <td>0.329346</td>\n",
       "    </tr>\n",
       "    <tr>\n",
       "      <td>Ceftamin</td>\n",
       "      <td>52.591172</td>\n",
       "      <td>51.776157</td>\n",
       "      <td>39.290177</td>\n",
       "      <td>6.268188</td>\n",
       "      <td>0.469821</td>\n",
       "    </tr>\n",
       "    <tr>\n",
       "      <td>Infubinol</td>\n",
       "      <td>52.884795</td>\n",
       "      <td>51.820584</td>\n",
       "      <td>43.128684</td>\n",
       "      <td>6.567243</td>\n",
       "      <td>0.492236</td>\n",
       "    </tr>\n",
       "    <tr>\n",
       "      <td>Ketapril</td>\n",
       "      <td>55.235638</td>\n",
       "      <td>53.698743</td>\n",
       "      <td>68.553577</td>\n",
       "      <td>8.279709</td>\n",
       "      <td>0.603860</td>\n",
       "    </tr>\n",
       "    <tr>\n",
       "      <td>Naftisol</td>\n",
       "      <td>54.331565</td>\n",
       "      <td>52.509285</td>\n",
       "      <td>66.173479</td>\n",
       "      <td>8.134708</td>\n",
       "      <td>0.596466</td>\n",
       "    </tr>\n",
       "    <tr>\n",
       "      <td>Placebo</td>\n",
       "      <td>54.033581</td>\n",
       "      <td>52.288934</td>\n",
       "      <td>61.168083</td>\n",
       "      <td>7.821003</td>\n",
       "      <td>0.581331</td>\n",
       "    </tr>\n",
       "    <tr>\n",
       "      <td>Propriva</td>\n",
       "      <td>52.322552</td>\n",
       "      <td>50.854632</td>\n",
       "      <td>42.351070</td>\n",
       "      <td>6.507770</td>\n",
       "      <td>0.512884</td>\n",
       "    </tr>\n",
       "    <tr>\n",
       "      <td>Ramicane</td>\n",
       "      <td>40.216745</td>\n",
       "      <td>40.673236</td>\n",
       "      <td>23.486704</td>\n",
       "      <td>4.846308</td>\n",
       "      <td>0.320955</td>\n",
       "    </tr>\n",
       "    <tr>\n",
       "      <td>Stelasyn</td>\n",
       "      <td>54.233149</td>\n",
       "      <td>52.431737</td>\n",
       "      <td>59.450562</td>\n",
       "      <td>7.710419</td>\n",
       "      <td>0.573111</td>\n",
       "    </tr>\n",
       "    <tr>\n",
       "      <td>Zoniferol</td>\n",
       "      <td>53.236507</td>\n",
       "      <td>51.818479</td>\n",
       "      <td>48.533355</td>\n",
       "      <td>6.966589</td>\n",
       "      <td>0.516398</td>\n",
       "    </tr>\n",
       "  </tbody>\n",
       "</table>\n",
       "</div>"
      ],
      "text/plain": [
       "                   Mean     Median   Variance   Std-Dev       SEM\n",
       "Drug Regimen                                                     \n",
       "Capomulin     40.675741  41.557809  24.947764  4.994774  0.329346\n",
       "Ceftamin      52.591172  51.776157  39.290177  6.268188  0.469821\n",
       "Infubinol     52.884795  51.820584  43.128684  6.567243  0.492236\n",
       "Ketapril      55.235638  53.698743  68.553577  8.279709  0.603860\n",
       "Naftisol      54.331565  52.509285  66.173479  8.134708  0.596466\n",
       "Placebo       54.033581  52.288934  61.168083  7.821003  0.581331\n",
       "Propriva      52.322552  50.854632  42.351070  6.507770  0.512884\n",
       "Ramicane      40.216745  40.673236  23.486704  4.846308  0.320955\n",
       "Stelasyn      54.233149  52.431737  59.450562  7.710419  0.573111\n",
       "Zoniferol     53.236507  51.818479  48.533355  6.966589  0.516398"
      ]
     },
     "execution_count": 16,
     "metadata": {},
     "output_type": "execute_result"
    }
   ],
   "source": [
    "# Generate a summary statistics table of mean, median, variance, standard deviation, and SEM of the tumor volume \n",
    "# for each regiment\n",
    "\n",
    "tumor_regimen = mouse_study_results.set_index('Drug Regimen').groupby(['Drug Regimen'])\n",
    "\n",
    "tumor_mean = tumor_regimen[\"Tumor Volume (mm3)\"].mean()\n",
    "tumor_median = tumor_regimen[\"Tumor Volume (mm3)\"].median()\n",
    "tumor_variance = tumor_regimen[\"Tumor Volume (mm3)\"].var()\n",
    "tumor_stddev = tumor_regimen[\"Tumor Volume (mm3)\"].std()\n",
    "tumor_SEM = tumor_regimen[\"Tumor Volume (mm3)\"].sem()\n",
    "\n",
    "tumor_summary = pd.DataFrame({\"Mean\" : tumor_mean, \n",
    "                              \"Median\" : tumor_median,\n",
    "                              \"Variance\" : tumor_variance,\n",
    "                              \"Std-Dev\" : tumor_stddev,\n",
    "                              \"SEM\" : tumor_SEM\n",
    "                             })\n",
    "tumor_summary"
   ]
  },
  {
   "cell_type": "markdown",
   "metadata": {},
   "source": [
    "## Bar plots"
   ]
  },
  {
   "cell_type": "code",
   "execution_count": 3,
   "metadata": {},
   "outputs": [
    {
     "data": {
      "text/plain": [
       "<matplotlib.axes._subplots.AxesSubplot at 0x2dff80ee648>"
      ]
     },
     "execution_count": 3,
     "metadata": {},
     "output_type": "execute_result"
    },
    {
     "data": {
      "image/png": "[encoded data removed]",
      "text/plain": [
       "<Figure size 432x288 with 1 Axes>"
      ]
     },
     "metadata": {
      "needs_background": "light"
     },
     "output_type": "display_data"
    }
   ],
   "source": [
    "# Generate a bar plot showing number of data points for each treatment regimen using pandas\n",
    "regimen_data = mouse_study_results.groupby(['Drug Regimen'])\n",
    "regimen_count = regimen_data[\"Drug Regimen\"].count()\n",
    "df = pd.DataFrame({\"Data Point For Each Regimen\" : regimen_count})\n",
    "df.plot.bar()"
   ]
  },
  {
   "cell_type": "code",
   "execution_count": 4,
   "metadata": {},
   "outputs": [
    {
     "data": {
      "image/png": "[encoded data removed]",
      "text/plain": [
       "<Figure size 432x288 with 1 Axes>"
      ]
     },
     "metadata": {
      "needs_background": "light"
     },
     "output_type": "display_data"
    }
   ],
   "source": [
    "# Generate a bar plot showing number of data points for each treatment regimen using pyplot\n",
    "#Get Labels for x axis\n",
    "regimen_names = mouse_study_results[\"Drug Regimen\"].unique()\n",
    "regimen_names.sort()\n",
    "\n",
    "#get regimen treatment data\n",
    "regimen_count = mouse_study_results.groupby(['Drug Regimen'])[\"Drug Regimen\"].count()\n",
    "\n",
    "#create bar chart\n",
    "x_axis = np.arange(len(regimen_names))\n",
    "plt.bar(x_axis, regimen_count, align=\"center\")\n",
    "tick_locations = [value for value in x_axis]\n",
    "plt.xticks(tick_locations, regimen_names, rotation=\"vertical\")\n",
    "plt.title('Data Point For Each Regimen')\n",
    "plt.xlabel('Drug Regimen')\n",
    "plt.show()\n"
   ]
  },
  {
   "cell_type": "markdown",
   "metadata": {},
   "source": [
    "## Pie plots"
   ]
  },
  {
   "cell_type": "code",
   "execution_count": 5,
   "metadata": {},
   "outputs": [
    {
     "data": {
      "text/plain": [
       "<matplotlib.axes._subplots.AxesSubplot at 0x2dff94b0688>"
      ]
     },
     "execution_count": 5,
     "metadata": {},
     "output_type": "execute_result"
    },
    {
     "data": {
      "image/png": "[encoded data removed]",
      "text/plain": [
       "<Figure size 432x288 with 1 Axes>"
      ]
     },
     "metadata": {},
     "output_type": "display_data"
    }
   ],
   "source": [
    "# Generate a pie plot showing the distribution of female versus male mice using pandas\n",
    "labels = mouse_study_results[\"Sex\"].unique()\n",
    "data = mouse_study_results.groupby('Sex')[\"Sex\"].count()\n",
    "df = pd.DataFrame({\"Sex\" : data})\n",
    "df.plot.pie(y='Sex')\n"
   ]
  },
  {
   "cell_type": "code",
   "execution_count": 6,
   "metadata": {},
   "outputs": [
    {
     "data": {
      "text/plain": [
       "([<matplotlib.patches.Wedge at 0x2dff953d3c8>,\n",
       "  <matplotlib.patches.Wedge at 0x2dff9543548>],\n",
       " [Text(0.02099250347258556, 1.0997996703027118, 'Female'),\n",
       "  Text(-0.020992503472586185, -1.0997996703027118, 'Male')],\n",
       " [Text(0.011450456439592123, 0.5998907292560246, '49.4%'),\n",
       "  Text(-0.011450456439592464, -0.5998907292560246, '50.6%')])"
      ]
     },
     "execution_count": 6,
     "metadata": {},
     "output_type": "execute_result"
    },
    {
     "data": {
      "image/png": "[encoded data removed]",
      "text/plain": [
       "<Figure size 432x288 with 1 Axes>"
      ]
     },
     "metadata": {},
     "output_type": "display_data"
    }
   ],
   "source": [
    "# Generate a pie plot showing the distribution of female versus male mice using pyplot\n",
    "labels = mouse_study_results[\"Sex\"].unique()\n",
    "plt.pie(data, labels=labels, shadow=True, autopct=\"%1.1f%%\")"
   ]
  },
  {
   "cell_type": "markdown",
   "metadata": {},
   "source": [
    "## Quartiles, outliers and boxplots"
   ]
  },
  {
   "cell_type": "code",
   "execution_count": 7,
   "metadata": {},
   "outputs": [
    {
     "data": {
      "text/html": [
       "<div>\n",
       "<style scoped>\n",
       "    .dataframe tbody tr th:only-of-type {\n",
       "        vertical-align: middle;\n",
       "    }\n",
       "\n",
       "    .dataframe tbody tr th {\n",
       "        vertical-align: top;\n",
       "    }\n",
       "\n",
       "    .dataframe thead th {\n",
       "        text-align: right;\n",
       "    }\n",
       "</style>\n",
       "<table border=\"1\" class=\"dataframe\">\n",
       "  <thead>\n",
       "    <tr style=\"text-align: right;\">\n",
       "      <th></th>\n",
       "      <th>Regimen Names</th>\n",
       "      <th>Lower Quartile</th>\n",
       "      <th>Upper Quartile</th>\n",
       "      <th>IQR</th>\n",
       "      <th>Outlier Below</th>\n",
       "      <th>Outlier Above</th>\n",
       "    </tr>\n",
       "  </thead>\n",
       "  <tbody>\n",
       "    <tr>\n",
       "      <td>0</td>\n",
       "      <td>Capomulin</td>\n",
       "      <td>37.69</td>\n",
       "      <td>45.00</td>\n",
       "      <td>7.31</td>\n",
       "      <td>26.71</td>\n",
       "      <td>55.97</td>\n",
       "    </tr>\n",
       "    <tr>\n",
       "      <td>1</td>\n",
       "      <td>Ramicane</td>\n",
       "      <td>36.67</td>\n",
       "      <td>45.00</td>\n",
       "      <td>8.33</td>\n",
       "      <td>24.19</td>\n",
       "      <td>57.49</td>\n",
       "    </tr>\n",
       "    <tr>\n",
       "      <td>2</td>\n",
       "      <td>Infubinol</td>\n",
       "      <td>47.31</td>\n",
       "      <td>57.31</td>\n",
       "      <td>10.00</td>\n",
       "      <td>32.31</td>\n",
       "      <td>72.32</td>\n",
       "    </tr>\n",
       "    <tr>\n",
       "      <td>3</td>\n",
       "      <td>Ceftamin</td>\n",
       "      <td>47.21</td>\n",
       "      <td>56.80</td>\n",
       "      <td>9.59</td>\n",
       "      <td>32.82</td>\n",
       "      <td>71.19</td>\n",
       "    </tr>\n",
       "  </tbody>\n",
       "</table>\n",
       "</div>"
      ],
      "text/plain": [
       "  Regimen Names Lower Quartile Upper Quartile    IQR Outlier Below  \\\n",
       "0     Capomulin          37.69          45.00   7.31         26.71   \n",
       "1      Ramicane          36.67          45.00   8.33         24.19   \n",
       "2     Infubinol          47.31          57.31  10.00         32.31   \n",
       "3      Ceftamin          47.21          56.80   9.59         32.82   \n",
       "\n",
       "  Outlier Above  \n",
       "0         55.97  \n",
       "1         57.49  \n",
       "2         72.32  \n",
       "3         71.19  "
      ]
     },
     "execution_count": 7,
     "metadata": {},
     "output_type": "execute_result"
    }
   ],
   "source": [
    "# Calculate the final tumor volume of each mouse across four of the most promising treatment regimens. Calculate the IQR and \n",
    "# quantitatively determine if there are any potential outliers. \n",
    "\n",
    "regimen_Capomulin = mouse_study_results.loc[mouse_study_results[\"Drug Regimen\"] == 'Capomulin'][\"Tumor Volume (mm3)\"]\n",
    "regimen_Ramicane = mouse_study_results.loc[mouse_study_results[\"Drug Regimen\"] == 'Ramicane'][\"Tumor Volume (mm3)\"]\n",
    "regimen_Infubinol = mouse_study_results.loc[mouse_study_results[\"Drug Regimen\"] == 'Infubinol'][\"Tumor Volume (mm3)\"]\n",
    "regimen_Ceftamin = mouse_study_results.loc[mouse_study_results[\"Drug Regimen\"] == 'Ceftamin'][\"Tumor Volume (mm3)\"]\n",
    "\n",
    "#regimen_Capomulin\n",
    "Capomulin = regimen_Capomulin.quantile([.25, .5, .75])\n",
    "Capomulin_lq = Capomulin[0.25]\n",
    "Capomulin_uq = Capomulin[0.75]\n",
    "Capomulin_iqr = Capomulin_uq - Capomulin_lq\n",
    "Capomulin_lower_bound = Capomulin_lq - (1.5*Capomulin_iqr)\n",
    "Capomulin_upper_bound = Capomulin_uq + (1.5*Capomulin_iqr)\n",
    "\n",
    "#regimen_Ramicanen\n",
    "Ramicane = regimen_Ramicane.quantile([.25, .5, .75])\n",
    "Ramicane_lq = Ramicane[0.25]\n",
    "Ramicane_uq = Ramicane[0.75]\n",
    "Ramicane_iqr = Ramicane_uq - Ramicane_lq\n",
    "Ramicane_lower_bound = Ramicane_lq - (1.5*Ramicane_iqr)\n",
    "Ramicane_upper_bound = Ramicane_uq + (1.5*Ramicane_iqr)\n",
    "\n",
    "#regimen_Infubinol\n",
    "Infubinol = regimen_Infubinol.quantile([.25, .5, .75])\n",
    "Infubinol_lq = Infubinol[0.25]\n",
    "Infubinol_uq = Infubinol[0.75]\n",
    "Infubinol_iqr = Infubinol_uq - Infubinol_lq\n",
    "Infubinol_lower_bound = Infubinol_lq - (1.5*Infubinol_iqr)\n",
    "Infubinol_upper_bound = Infubinol_uq + (1.5*Infubinol_iqr)\n",
    "\n",
    "#regimen_Ceftamin\n",
    "Ceftamin = regimen_Ceftamin.quantile([.25, .5, .75])\n",
    "Ceftamin_lq = Ceftamin[0.25]\n",
    "Ceftamin_uq = Ceftamin[0.75]\n",
    "Ceftamin_iqr = Ceftamin_uq - Ceftamin_lq\n",
    "Ceftamin_lower_bound = Ceftamin_lq - (1.5*Ceftamin_iqr)\n",
    "Ceftamin_upper_bound = Ceftamin_uq + (1.5*Ceftamin_iqr)\n",
    "\n",
    "regimen_summary = pd.DataFrame({\n",
    "   \"Regimen Names\" : [\"Capomulin\", \"Ramicane\", \"Infubinol\", \"Ceftamin\"],\n",
    "    \"Lower Quartile\" : [Capomulin_lq,Ramicane_lq,Infubinol_lq,Ceftamin_lq],\n",
    "    \"Upper Quartile\" : [Capomulin_uq,Ramicane_uq,Infubinol_uq,Ceftamin_uq ],\n",
    "    \"IQR\": [Capomulin_iqr,Ramicane_iqr,Infubinol_iqr,Ceftamin_iqr],\n",
    "    \"Outlier Below\" : [Capomulin_lower_bound,Ramicane_lower_bound,Infubinol_lower_bound,Ceftamin_lower_bound],\n",
    "    \"Outlier Above\" : [Capomulin_upper_bound,Ramicane_upper_bound,Infubinol_upper_bound,Ceftamin_upper_bound]\n",
    "})\n",
    "\n",
    "regimen_summary['Lower Quartile'] = regimen_summary['Lower Quartile'].map(\"{:.2f}\".format)\n",
    "regimen_summary['Upper Quartile'] = regimen_summary['Upper Quartile'].map(\"{:.2f}\".format)\n",
    "regimen_summary['IQR'] = regimen_summary['IQR'].map(\"{:.2f}\".format)\n",
    "regimen_summary['Outlier Below'] = regimen_summary['Outlier Below'].map(\"{:.2f}\".format)\n",
    "regimen_summary['Outlier Above'] = regimen_summary['Outlier Above'].map(\"{:.2f}\".format)\n",
    "\n",
    "regimen_summary\n"
   ]
  },
  {
   "cell_type": "code",
   "execution_count": 8,
   "metadata": {},
   "outputs": [
    {
     "data": {
      "image/png": "[encoded data removed]",
      "text/plain": [
       "<Figure size 432x288 with 1 Axes>"
      ]
     },
     "metadata": {
      "needs_background": "light"
     },
     "output_type": "display_data"
    }
   ],
   "source": [
    "# Generate a box plot of the final tumor volume of each mouse across four regimens of interest\n",
    "data_to_plot = [regimen_Capomulin, regimen_Ramicane, regimen_Infubinol, regimen_Ceftamin]\n",
    "fig1, ax1 = plt.subplots()\n",
    "ax1.set_title('Regimen of Interest')\n",
    "ax1.set_ylabel('Tumor Volume')\n",
    "ax1.boxplot(data_to_plot, labels=[\"Capomulin\",\"Ramicane\",\"Infubinol\",\"Ceftamin\"])\n",
    "plt.show()"
   ]
  },
  {
   "cell_type": "markdown",
   "metadata": {},
   "source": [
    "## Line and scatter plots"
   ]
  },
  {
   "cell_type": "code",
   "execution_count": 9,
   "metadata": {},
   "outputs": [
    {
     "data": {
      "image/png": "[encoded data removed]",
      "text/plain": [
       "<Figure size 432x288 with 1 Axes>"
      ]
     },
     "metadata": {
      "needs_background": "light"
     },
     "output_type": "display_data"
    }
   ],
   "source": [
    "# Generate a line plot of time point versus tumor volume for a mouse treated with Capomulin\n",
    "\n",
    "# Capomulin data\n",
    "regimen_Capomulin = mouse_study_results.loc[mouse_study_results[\"Drug Regimen\"] == 'Capomulin']\n",
    "#regimen_Capomulin.head()\n",
    "#picked random Mouse ID: b742\n",
    "\n",
    "graph_data = regimen_Capomulin.loc[regimen_Capomulin[\"Mouse ID\"] == \"b742\",:]\n",
    "\n",
    "x_axis = graph_data[\"Timepoint\"]\n",
    "y_axis = graph_data[\"Tumor Volume (mm3)\"]\n",
    "plt.title('Capomulin Regimen for MouseID b742')\n",
    "plt.xlabel('Timepoint (Days)')\n",
    "plt.ylabel('Tumor Volume (mm3)')\n",
    "plt.plot(x_axis, y_axis)\n",
    "plt.show()"
   ]
  },
  {
   "cell_type": "code",
   "execution_count": 10,
   "metadata": {},
   "outputs": [
    {
     "data": {
      "image/png": "[encoded data removed]",
      "text/plain": [
       "<Figure size 432x288 with 1 Axes>"
      ]
     },
     "metadata": {
      "needs_background": "light"
     },
     "output_type": "display_data"
    }
   ],
   "source": [
    "# Generate a scatter plot of mouse weight versus average tumor volume for the Capomulin regimen\n",
    "\n",
    "# Get average weight and average tumor volume for Capomulin regimen\n",
    "Capomulin_mean = regimen_Capomulin.groupby(['Mouse ID']).mean()\n",
    "\n",
    "# Plot the values\n",
    "plt.scatter(Capomulin_mean['Weight (g)'], Capomulin_mean['Tumor Volume (mm3)'])\n",
    "plt.xlabel('Weight (g)')\n",
    "plt.ylabel('Average Tumor Volume (mm3)')\n",
    "plt.show()"
   ]
  },
  {
   "cell_type": "code",
   "execution_count": 11,
   "metadata": {},
   "outputs": [
    {
     "name": "stdout",
     "output_type": "stream",
     "text": [
      "The correlation between mouse weight and average tumor volume for the Capomulin regimen is 0.84\n"
     ]
    }
   ],
   "source": [
    "# Calculate the correlation coefficient and linear regression model for mouse weight and average tumor volume for the Capomulin regimen\n",
    "\n",
    "correlation_coef = round(st.pearsonr(Capomulin_mean['Weight (g)'],Capomulin_mean['Tumor Volume (mm3)'])[0],2)\n",
    "print(f\"The correlation between mouse weight and average tumor volume for the Capomulin regimen is {correlation_coef}\")\n"
   ]
  },
  {
   "cell_type": "code",
   "execution_count": 12,
   "metadata": {},
   "outputs": [
    {
     "data": {
      "image/png": "[encoded data removed]",
      "text/plain": [
       "<Figure size 432x288 with 1 Axes>"
      ]
     },
     "metadata": {
      "needs_background": "light"
     },
     "output_type": "display_data"
    }
   ],
   "source": [
    "#scatter plot from previous problem\n",
    "plt.scatter(Capomulin_mean['Weight (g)'],Capomulin_mean['Tumor Volume (mm3)'])\n",
    "plt.xlabel('Weight(g)')\n",
    "plt.ylabel('Average Tumore Volume (mm3)')\n",
    "\n",
    "#linear regression model\n",
    "regression_data=st.linregress(Capomulin_mean['Weight (g)'],Capomulin_mean['Tumor Volume (mm3)'])\n",
    "slope = regression_data.slope\n",
    "intercept = regression_data.intercept\n",
    "regression_line = Capomulin_mean['Weight (g)'] * slope + intercept\n",
    "plt.plot(Capomulin_mean['Weight (g)'], regression_line, color=\"red\")\n",
    "plt.show()"
   ]
  }
 ],
 "metadata": {
  "anaconda-cloud": {},
  "kernelspec": {
   "display_name": "Python 3",
   "language": "python",
   "name": "python3"
  },
  "language_info": {
   "codemirror_mode": {
    "name": "ipython",
    "version": 3
   },
   "file_extension": ".py",
   "mimetype": "text/x-python",
   "name": "python",
   "nbconvert_exporter": "python",
   "pygments_lexer": "ipython3",
   "version": "3.7.4"
  }
 },
 "nbformat": 4,
 "nbformat_minor": 2
}
